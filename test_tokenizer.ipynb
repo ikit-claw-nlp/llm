{
 "cells": [
  {
   "cell_type": "code",
   "execution_count": null,
   "id": "40a71308",
   "metadata": {},
   "outputs": [],
   "source": [
    "from transformers import AutoTokenizer"
   ]
  },
  {
   "cell_type": "code",
   "execution_count": null,
   "id": "8b33bbf9",
   "metadata": {},
   "outputs": [],
   "source": [
    "tokenizer = AutoTokenizer.from_pretrained(\"ikit-claw-nlp/toy-llm\")"
   ]
  },
  {
   "cell_type": "code",
   "execution_count": null,
   "id": "171d3259",
   "metadata": {},
   "outputs": [],
   "source": [
    "token_ids = tokenizer(\"<s>Hello world</s>\")['input_ids']\n",
    "print(\n",
    "    tokenizer.convert_ids_to_tokens(token_ids)\n",
    ")"
   ]
  },
  {
   "cell_type": "code",
   "execution_count": null,
   "id": "dff4aecd",
   "metadata": {},
   "outputs": [],
   "source": [
    "dir(tokenizer)"
   ]
  }
 ],
 "metadata": {
  "kernelspec": {
   "display_name": "llm",
   "language": "python",
   "name": "python3"
  },
  "language_info": {
   "codemirror_mode": {
    "name": "ipython",
    "version": 3
   },
   "file_extension": ".py",
   "mimetype": "text/x-python",
   "name": "python",
   "nbconvert_exporter": "python",
   "pygments_lexer": "ipython3",
   "version": "3.12.9"
  }
 },
 "nbformat": 4,
 "nbformat_minor": 5
}
