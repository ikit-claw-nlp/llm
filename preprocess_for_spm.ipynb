{
 "cells": [
  {
   "cell_type": "markdown",
   "id": "7d2381f2",
   "metadata": {},
   "source": [
    "cf.\n",
    "\n",
    "Python document\n",
    "- https://github.com/google/sentencepiece/blob/master/python/README.md\n",
    "\n",
    "Document of spm_train\n",
    "- https://github.com/google/sentencepiece#train-sentencepiece-model\n",
    "\n",
    "Training Options\n",
    "- https://github.com/google/sentencepiece/blob/master/doc/options.md"
   ]
  },
  {
   "cell_type": "code",
   "execution_count": 1,
   "id": "adf507a0",
   "metadata": {},
   "outputs": [],
   "source": [
    "import re\n",
    "from tqdm import tqdm\n",
    "\n",
    "def preprocess_japanese_text_no_tokenize_keep_punctuation(text):\n",
    "    \"\"\"\n",
    "    预处理日语文本，将每个句子单独成行，不使用分词，并保留标点符号。\n",
    "\n",
    "    Args:\n",
    "        text (str): 原始日语文本。\n",
    "\n",
    "    Returns:\n",
    "        str: 预处理后的文本，每个句子单独成行。\n",
    "    \"\"\"\n",
    "    # 使用正则表达式查找所有句子\n",
    "    sentences = re.findall(f'[^。？！]*[。？！]|[^。？！]+', text)\n",
    "\n",
    "    # 清理空字符串和空白字符\n",
    "    processed_sentences = [s.strip() for s in sentences if s.strip()]\n",
    "\n",
    "    # 将句子连接成字符串，每个句子单独成行\n",
    "    processed_text = \"\\n\".join(processed_sentences)\n",
    "\n",
    "    return processed_text\n"
   ]
  },
  {
   "cell_type": "code",
   "execution_count": null,
   "id": "42fd84f6",
   "metadata": {},
   "outputs": [],
   "source": [
    "# Preprocessing the text\n",
    "with open(\"data/full_text/raw_merged_corpus.corpus\", \"r\", encoding=\"utf8\") as f_handle:\n",
    "    raw_corpus = f_handle.readlines()\n",
    "with open(\"data/full_text/sentence_tokenized_corpus.corpus\", \"w\", encoding=\"utf8\") as f_handle:\n",
    "    for line in tqdm(raw_corpus):\n",
    "        sep_line = preprocess_japanese_text_no_tokenize_keep_punctuation(line)\n",
    "        f_handle.write(sep_line)\n",
    "        f_handle.write(\"\\n\")"
   ]
  }
 ],
 "metadata": {
  "kernelspec": {
   "display_name": "llm",
   "language": "python",
   "name": "python3"
  },
  "language_info": {
   "codemirror_mode": {
    "name": "ipython",
    "version": 3
   },
   "file_extension": ".py",
   "mimetype": "text/x-python",
   "name": "python",
   "nbconvert_exporter": "python",
   "pygments_lexer": "ipython3",
   "version": "3.12.9"
  }
 },
 "nbformat": 4,
 "nbformat_minor": 5
}
