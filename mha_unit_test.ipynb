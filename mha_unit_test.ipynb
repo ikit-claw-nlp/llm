{
 "cells": [
  {
   "cell_type": "code",
   "execution_count": 1,
   "id": "1a1d8b13",
   "metadata": {},
   "outputs": [],
   "source": [
    "from transformers import AutoTokenizer\n",
    "import torch.nn as nn\n",
    "import torch\n"
   ]
  },
  {
   "cell_type": "code",
   "execution_count": 2,
   "id": "71a612f3",
   "metadata": {},
   "outputs": [],
   "source": [
    "class MultiHeadAttention(nn.Module):\n",
    "    def __init__(self, n_heads, head_dim, d_model, seq_len, dropout =0.0, use_mask=False):\n",
    "        # head_dim = d_k\n",
    "        super(MultiHeadAttention, self).__init__()\n",
    "        self.n_heads = n_heads\n",
    "        self.seq_len = seq_len\n",
    "        self.head_dim = head_dim\n",
    "        self.dropout = nn.Dropout(dropout)\n",
    "        self.W_Q = nn.Linear(d_model, n_heads * head_dim, bias=False)\n",
    "        self.W_K = nn.Linear(d_model, n_heads * head_dim, bias=False)\n",
    "        self.W_V = nn.Linear(d_model, n_heads * head_dim, bias=False)\n",
    "        self.W_O = nn.Linear(n_heads * head_dim, d_model, bias=False)\n",
    "        self.use_mask = use_mask\n",
    "        if self.use_mask:\n",
    "            self.register_buffer(\n",
    "                \"mask\",\n",
    "                torch.triu(\n",
    "                    torch.ones(self.seq_len, self.seq_len),\n",
    "                    diagonal=1\n",
    "                )\n",
    "            )\n",
    "    def forward(self, Q, K, V):\n",
    "        # Q size: from [batch_size, seq_len, d_model]\n",
    "        Q = self.W_Q(Q) # => [batch_size, seq_len, n_heads * n_dim]\n",
    "        K = self.W_K(K) # => [batch_size, seq_len, n_heads * n_dim]\n",
    "        V = self.W_V(V) # => [batch_size, seq_len, n_heads * n_dim]\n",
    "        attention_weights = torch.matmul(Q, K.transpose(-2, -1)) # sim_mat => [batch_size, seq_len, seq_len]\n",
    "        attention_weights = attention_weights / torch.sqrt(torch.Tensor([self.head_dim]))\n",
    "        if self.use_mask:\n",
    "            seq_len = Q.shape[-2]\n",
    "            mask = self.mask.bool()[:seq_len, :seq_len]\n",
    "            attention_weights.masked_fill_(mask, -torch.inf)\n",
    "        # attention_weights = [batch_size, seq_len, seq_len]\n",
    "        attention_weights = nn.functional.softmax(attention_weights, dim=-1)\n",
    "        attention_score = attention_weights\n",
    "        result_mat = torch.matmul(attention_weights, V)\n",
    "        result_mat = self.W_O(result_mat)\n",
    "        return result_mat, attention_score\n",
    "        "
   ]
  },
  {
   "cell_type": "code",
   "execution_count": 3,
   "id": "70e093c8",
   "metadata": {},
   "outputs": [],
   "source": [
    "tokenizer = AutoTokenizer.from_pretrained(\"ikit-claw-nlp/toy-llm\")\n",
    "d_model = 512\n",
    "n_seq_len = 256\n",
    "n_batch_size = 10\n",
    "TokenEmbeddingLayer = nn.Embedding(\n",
    "    num_embeddings=tokenizer.vocab_size,\n",
    "    embedding_dim = d_model,\n",
    "    padding_idx=tokenizer.convert_tokens_to_ids(\"<pad>\")\n",
    ")\n",
    "PosEmbeddingLayer = nn.Embedding(\n",
    "    num_embeddings = n_seq_len,\n",
    "    embedding_dim = d_model\n",
    ")"
   ]
  },
  {
   "cell_type": "code",
   "execution_count": 4,
   "id": "fbeb9672",
   "metadata": {},
   "outputs": [],
   "source": [
    "embedding = TokenEmbeddingLayer(torch.randint(low=0, high=tokenizer.vocab_size, size=(n_batch_size, n_seq_len)))\n",
    "pos_embedding = PosEmbeddingLayer(torch.arange(n_seq_len))\n",
    "embedding = embedding + pos_embedding"
   ]
  },
  {
   "cell_type": "code",
   "execution_count": 5,
   "id": "286429dd",
   "metadata": {},
   "outputs": [],
   "source": [
    "import torch\n",
    "test_tensor = torch.rand(size=(n_batch_size, n_seq_len, d_model))"
   ]
  },
  {
   "cell_type": "code",
   "execution_count": 6,
   "id": "0a59daab",
   "metadata": {},
   "outputs": [],
   "source": [
    "mha = MultiHeadAttention(\n",
    "    n_heads = 8,\n",
    "    head_dim = 64,\n",
    "    d_model = d_model,\n",
    "    seq_len = n_seq_len,\n",
    "    dropout=0.5,\n",
    "    use_mask= True \n",
    ")\n",
    "test_mat, _ = mha(test_tensor,test_tensor,test_tensor)\n"
   ]
  }
 ],
 "metadata": {
  "kernelspec": {
   "display_name": "llm",
   "language": "python",
   "name": "python3"
  },
  "language_info": {
   "codemirror_mode": {
    "name": "ipython",
    "version": 3
   },
   "file_extension": ".py",
   "mimetype": "text/x-python",
   "name": "python",
   "nbconvert_exporter": "python",
   "pygments_lexer": "ipython3",
   "version": "3.12.9"
  }
 },
 "nbformat": 4,
 "nbformat_minor": 5
}
