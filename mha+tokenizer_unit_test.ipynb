{
 "cells": [
  {
   "cell_type": "code",
   "execution_count": 1,
   "id": "2e92e979",
   "metadata": {},
   "outputs": [],
   "source": [
    "from libs.TokenEmbedding import TokenEmbedding\n",
    "from libs.CorpusDataset import CorpusDataset\n",
    "from libs.MHA import MultiHeadAttention\n",
    "import glob\n",
    "from transformers import AutoTokenizer\n",
    "from torch.utils.data import DataLoader\n",
    "import torch\n"
   ]
  },
  {
   "cell_type": "code",
   "execution_count": 2,
   "id": "715a95e4",
   "metadata": {},
   "outputs": [],
   "source": [
    "torch.set_default_device('cuda')\n",
    "text_files = glob.glob(\"data/text/*.txt\")\n",
    "tokenizer = tokenizer = AutoTokenizer.from_pretrained(\"ikit-claw-nlp/toy-llm\")\n",
    "corpus_dataset = CorpusDataset(text_files, tokenizer=tokenizer, window_size=1024, step_length=128)\n",
    "data_loader = DataLoader(dataset=corpus_dataset, batch_size=8)"
   ]
  },
  {
   "cell_type": "code",
   "execution_count": 3,
   "id": "64554eec",
   "metadata": {},
   "outputs": [],
   "source": [
    "embedding_layer = TokenEmbedding(tokenizer=tokenizer, seq_length=1024, d_model=1024)\n",
    "mha = MultiHeadAttention(n_heads=12, head_dim=64, d_model=1024, seq_len=1024, dropout=0.5, use_mask=True)\n"
   ]
  },
  {
   "cell_type": "code",
   "execution_count": 4,
   "id": "b578d258",
   "metadata": {},
   "outputs": [
    {
     "name": "stdout",
     "output_type": "stream",
     "text": [
      "Loading the dataset data/text/article_1-1000.txt into memory...\n",
      "Converting the dataset to token ids...\n",
      "Conversion Complete. torch.Size([7540024]) Tokens in the corpus.\n"
     ]
    }
   ],
   "source": [
    "for x, y in data_loader:\n",
    "    input_token_embedding = embedding_layer(x)\n",
    "    output_token_embedding = embedding_layer(y)\n",
    "    context_vec, attention_score = mha(input_token_embedding, output_token_embedding, output_token_embedding)\n",
    "    break"
   ]
  },
  {
   "cell_type": "code",
   "execution_count": 5,
   "id": "3df6ccc6",
   "metadata": {},
   "outputs": [
    {
     "name": "stdout",
     "output_type": "stream",
     "text": [
      "torch.Size([8, 1024, 768]) torch.Size([8, 12, 1024, 1024])\n"
     ]
    }
   ],
   "source": [
    "print(context_vec.shape, attention_score.shape)"
   ]
  },
  {
   "cell_type": "code",
   "execution_count": 9,
   "id": "2819f92a",
   "metadata": {},
   "outputs": [
    {
     "data": {
      "text/plain": [
       "tensor([[0.0000, 0.0000, 0.0000,  ..., 0.0000, 0.0000, 0.0000],\n",
       "        [0.5703, 0.0000, 0.0000,  ..., 0.0000, 0.0000, 0.0000],\n",
       "        [0.0000, 0.5531, 0.0000,  ..., 0.0000, 0.0000, 0.0000],\n",
       "        ...,\n",
       "        [0.0000, 0.0000, 0.0000,  ..., 0.0000, 0.0000, 0.0000],\n",
       "        [0.0013, 0.0017, 0.0000,  ..., 0.0026, 0.0000, 0.0000],\n",
       "        [0.0027, 0.0015, 0.0008,  ..., 0.0045, 0.0000, 0.0030]],\n",
       "       device='cuda:0', grad_fn=<SliceBackward0>)"
      ]
     },
     "execution_count": 9,
     "metadata": {},
     "output_type": "execute_result"
    }
   ],
   "source": [
    "attention_score[0, 3, :, :]"
   ]
  }
 ],
 "metadata": {
  "kernelspec": {
   "display_name": "llm",
   "language": "python",
   "name": "python3"
  },
  "language_info": {
   "codemirror_mode": {
    "name": "ipython",
    "version": 3
   },
   "file_extension": ".py",
   "mimetype": "text/x-python",
   "name": "python",
   "nbconvert_exporter": "python",
   "pygments_lexer": "ipython3",
   "version": "3.12.9"
  }
 },
 "nbformat": 4,
 "nbformat_minor": 5
}
