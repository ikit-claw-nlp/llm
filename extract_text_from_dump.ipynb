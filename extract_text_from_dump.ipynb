{
 "cells": [
  {
   "cell_type": "markdown",
   "id": "1c9d7ad8",
   "metadata": {},
   "source": [
    "cf. \n",
    "- https://stackoverflow.com/questions/56888333/how-can-i-parse-a-wikipedia-xml-dump-with-python\n",
    "- https://github.com/mediawiki-utilities/python-mwxml\n",
    "- https://github.com/mediawiki-utilities/python-mwxml/blob/master/ipython/labs_example.ipynb\n",
    "\n",
    "Wikipedia dump version in use:\n",
    "\n",
    "https://dumps.wikimedia.org/jawiki/20250401/"
   ]
  },
  {
   "cell_type": "code",
   "execution_count": 1,
   "id": "23b85a87",
   "metadata": {},
   "outputs": [],
   "source": [
    "import mwxml\n",
    "import re\n",
    "from tqdm import tqdm"
   ]
  },
  {
   "cell_type": "code",
   "execution_count": 2,
   "id": "a92cca9b-4cfb-41b6-a964-867370f59a64",
   "metadata": {},
   "outputs": [],
   "source": [
    "# This is from ChatGPT :) \n",
    "def clean_wiki_text(text):\n",
    "    \"\"\"\n",
    "    清理维基百科文本，移除标记和模板。\n",
    "\n",
    "    Args:\n",
    "        text (str): 维基百科文本。\n",
    "\n",
    "    Returns:\n",
    "        str: 清理后的文本。\n",
    "    \"\"\"\n",
    "    # 移除链接\n",
    "    text = re.sub(r'\\[\\[.*?\\]\\]', '', text)\n",
    "    # 移除模板\n",
    "    text = re.sub(r'\\{\\{.*?\\}\\}', '', text)\n",
    "    # 移除HTML标签\n",
    "    text = re.sub(r'<.*?>', '', text)\n",
    "    # 移除文件和图像链接\n",
    "    text = re.sub(r'\\[\\[ファイル:.*?\\]\\]', '', text)\n",
    "    text = re.sub(r'\\[\\[File:.*?\\]\\]', '', text)\n",
    "    # 移除分类链接\n",
    "    text = re.sub(r'\\[\\[Category:.*?\\]\\]', '', text)\n",
    "    text = re.sub(r'\\[\\[カテゴリ:.*?\\]\\]', '', text)\n",
    "    # 移除粗体和斜体标记\n",
    "    text = re.sub(r\"'''(.*?)'''\", r\"\\1\", text)\n",
    "    text = re.sub(r\"''(.*?)''\", r\"\\1\", text)\n",
    "    # 移除其他维基百科标记\n",
    "    text = re.sub(r'==.*?==', '', text)  # 移除标题\n",
    "    text = re.sub(r'^\\*.*$', '', text, flags=re.MULTILINE)  # 移除列表\n",
    "    text = re.sub(r'<!--.*?-->', '', text, flags=re.DOTALL)  # 移除注释\n",
    "    # 移除引用\n",
    "    text = re.sub(r'<ref>.*?</ref>', '', text, flags=re.DOTALL)\n",
    "    # 移除空行和多余空格\n",
    "    text = re.sub(r'\\n+', '\\n', text).strip()\n",
    "    return text\n"
   ]
  },
  {
   "cell_type": "code",
   "execution_count": 3,
   "id": "b4be8445",
   "metadata": {},
   "outputs": [],
   "source": [
    "dump = mwxml.Dump.from_file(\n",
    "    open('data/wiki_ja.xml', 'r')\n",
    ")"
   ]
  },
  {
   "cell_type": "code",
   "execution_count": 4,
   "id": "08cc065b",
   "metadata": {},
   "outputs": [
    {
     "name": "stderr",
     "output_type": "stream",
     "text": [
      "1000000it [06:06, 2728.02it/s]\n"
     ]
    }
   ],
   "source": [
    "page_text_list = []\n",
    "page_title_list = []\n",
    "last_visit_page_idx = 1\n",
    "for page_idx, page in tqdm(enumerate(dump, start=1)):\n",
    "    for revision in page:\n",
    "        # Because what we have downloaded is the dump of each page, WITHOUT revision history.\n",
    "        # So there should be only one \"revision\" objectg in the \"page\" object.\n",
    "        # cf. the raw XML for the file structure.\n",
    "        # We dump each article separately for the conveinence of future processing.\n",
    "        if revision.text is not None:\n",
    "            page_title_list.append(page.title)\n",
    "            page_text_list.append(clean_wiki_text(revision.text))\n",
    "        if ( (page_idx % 100000) == 0 ):\n",
    "            # Notice that, the dump variable is an iterator.\n",
    "            # Therefore, we dropped last 10,000 articles in the dump data.\n",
    "            # The total number of articles is 2,979,559. It's fine.\n",
    "            with open('data/text/article_' + str(last_visit_page_idx) + '-' + str(page_idx) + '.txt', 'w', encoding='utf-8') as f_handle:\n",
    "                for title, text in zip(page_title_list, page_text_list):\n",
    "                    f_handle.write(title)\n",
    "                    f_handle.write(text)\n",
    "                    f_handle.write('\\n')\n",
    "                last_visit_page_idx = page_idx\n",
    "                page_text_list = []\n",
    "    if page_idx > 1000000:\n",
    "        break"
   ]
  }
 ],
 "metadata": {
  "kernelspec": {
   "display_name": "Python 3 (ipykernel)",
   "language": "python",
   "name": "python3"
  },
  "language_info": {
   "codemirror_mode": {
    "name": "ipython",
    "version": 3
   },
   "file_extension": ".py",
   "mimetype": "text/x-python",
   "name": "python",
   "nbconvert_exporter": "python",
   "pygments_lexer": "ipython3",
   "version": "3.12.9"
  }
 },
 "nbformat": 4,
 "nbformat_minor": 5
}
