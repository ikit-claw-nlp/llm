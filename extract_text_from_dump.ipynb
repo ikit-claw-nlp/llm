{
 "cells": [
  {
   "cell_type": "markdown",
   "id": "1c9d7ad8",
   "metadata": {},
   "source": [
    "cf. \n",
    "- https://stackoverflow.com/questions/56888333/how-can-i-parse-a-wikipedia-xml-dump-with-python\n",
    "- https://github.com/mediawiki-utilities/python-mwxml\n",
    "- https://github.com/mediawiki-utilities/python-mwxml/blob/master/ipython/labs_example.ipynb\n",
    "\n",
    "Wikipedia dump version in use:\n",
    "\n",
    "https://dumps.wikimedia.org/jawiki/20250401/"
   ]
  },
  {
   "cell_type": "code",
   "execution_count": 1,
   "id": "23b85a87",
   "metadata": {},
   "outputs": [],
   "source": [
    "import mwxml\n",
    "from tqdm import tqdm"
   ]
  },
  {
   "cell_type": "code",
   "execution_count": 2,
   "id": "b4be8445",
   "metadata": {},
   "outputs": [],
   "source": [
    "dump = mwxml.Dump.from_file(\n",
    "    open('data/wiki_ja.xml', 'r')\n",
    ")"
   ]
  },
  {
   "cell_type": "code",
   "execution_count": 3,
   "id": "08cc065b",
   "metadata": {},
   "outputs": [
    {
     "name": "stderr",
     "output_type": "stream",
     "text": [
      "2979559it [12:55, 3844.46it/s]\n"
     ]
    }
   ],
   "source": [
    "page_text_list = []\n",
    "page_title_list = []\n",
    "last_visit_page_idx = 1\n",
    "for page_idx, page in tqdm(enumerate(dump, start=1)):\n",
    "    for revision in page:\n",
    "        # Because what we have downloaded is the dump of each page, WITHOUT revision history.\n",
    "        # So there should be only one \"revision\" objectg in the \"page\" object.\n",
    "        # cf. the raw XML for the file structure.\n",
    "        # We dump each article separately for the conveinence of future processing.\n",
    "        if revision.text is not None:\n",
    "            page_title_list.append(page.title)\n",
    "            page_text_list.append(revision.text)\n",
    "        if ( (page_idx % 10000) == 0 ):\n",
    "            # Notice that, the dump variable is an iterator.\n",
    "            # Therefore, we dropped last 10,000 articles in the dump data.\n",
    "            # The total number of articles is 2,979,559. It's fine.\n",
    "            with open('data/text/article_' + str(last_visit_page_idx) + '-' + str(page_idx) + '.txt', 'w', encoding='utf-8') as f_handle:\n",
    "                for title, text in zip(page_title_list, page_text_list):\n",
    "                    f_handle.write(title)\n",
    "                    f_handle.write(text)\n",
    "                    f_handle.write('\\n')\n",
    "                last_visit_page_idx = page_idx\n",
    "                page_text_list = []"
   ]
  }
 ],
 "metadata": {
  "kernelspec": {
   "display_name": "mpb",
   "language": "python",
   "name": "python3"
  },
  "language_info": {
   "codemirror_mode": {
    "name": "ipython",
    "version": 3
   },
   "file_extension": ".py",
   "mimetype": "text/x-python",
   "name": "python",
   "nbconvert_exporter": "python",
   "pygments_lexer": "ipython3",
   "version": "3.10.16"
  }
 },
 "nbformat": 4,
 "nbformat_minor": 5
}
