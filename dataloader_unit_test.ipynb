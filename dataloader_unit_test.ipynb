{
 "cells": [
  {
   "cell_type": "code",
   "execution_count": null,
   "id": "40a71308",
   "metadata": {},
   "outputs": [],
   "source": [
    "from transformers import AutoTokenizer\n",
    "import glob\n",
    "from torch.utils.data import DataLoader, IterableDataset\n",
    "import torch"
   ]
  },
  {
   "cell_type": "markdown",
   "id": "df3c6126",
   "metadata": {},
   "source": [
    "Test iterator."
   ]
  },
  {
   "cell_type": "code",
   "execution_count": null,
   "id": "901785d9",
   "metadata": {},
   "outputs": [],
   "source": [
    "class CorpusDataset(IterableDataset):\n",
    "    def __init__(self, file_list, window_size, step_length, tokenizer):\n",
    "        super(CorpusDataset).__init__()\n",
    "        self.file_list = file_list\n",
    "        self.window_size = window_size\n",
    "        self.step_length = step_length\n",
    "        self.tokenizer = tokenizer\n",
    "    def __iter__(self):\n",
    "        # For those who want to handle the boundary case:\n",
    "        # [a, b, c, d, e, f] => text. Step_size =s 2, window_size = 4\n",
    "        # First window: (input) [a, b, c, d] (output) [b, c, d, e] => idx = 0\n",
    "        # second window: (input) [c, d, e, f] (output) [d, e, f, pad] => idx = 2\n",
    "        # third window: (input) [e, f, pad, pad] (output) [f, pad, pad] => idx = 4\n",
    "        # the number of pad = idx + window_size - len(text) for input.\n",
    "        #                   = idx + 1 + window_size - len(text) for output.\n",
    "        # I choose to ignore using <pad> as input in training.\n",
    "        for corpus_f in self.file_list:\n",
    "            with open(corpus_f, 'r') as f_handle:\n",
    "                print(f\"Loading the dataset {corpus_f} into memory...\")\n",
    "                current_corpus = f_handle.read()\n",
    "                print(\"Converting the dataset to token ids...\")\n",
    "                tokenized_current_corpus_input_ids = self.tokenizer.encode(current_corpus,\n",
    "                                                                      return_tensors=\"pt\")\n",
    "                tokenized_current_corpus_input_ids = torch.squeeze(tokenized_current_corpus_input_ids)\n",
    "                print(\"Conversion Complete.\", tokenized_current_corpus_input_ids.shape,\n",
    "                      \"Tokens in the corpus.\")\n",
    "            for idx in range(0, len(tokenized_current_corpus_input_ids) - self.window_size, self.step_length):\n",
    "                # Note that, in there we drop the last part of the corpus if it cannot form a full-size window.\n",
    "                # we do not use <pad> to pad the last part of the corpus.\n",
    "                input_ids = tokenized_current_corpus_input_ids[idx : idx + self.window_size]\n",
    "                output_ids = tokenized_current_corpus_input_ids[idx + 1 : idx + 1 + self.window_size]\n",
    "                yield input_ids, output_ids"
   ]
  },
  {
   "cell_type": "code",
   "execution_count": null,
   "id": "53450eb0",
   "metadata": {},
   "outputs": [],
   "source": [
    "# Load the tokenizer we've trained.\n",
    "tokenizer = AutoTokenizer.from_pretrained(\"ikit-claw-nlp/toy-llm\")\n",
    "print(\"The vocabulary has\", tokenizer.vocab_size, \"tokens.\")"
   ]
  },
  {
   "cell_type": "code",
   "execution_count": null,
   "id": "566e80e0",
   "metadata": {},
   "outputs": [],
   "source": [
    "file_list = glob.glob(\"data/full_text/*.txt\")\n",
    "corpus_dataset = CorpusDataset(file_list=file_list,\n",
    "                               window_size=16,\n",
    "                               step_length=1,\n",
    "                               tokenizer=tokenizer)\n",
    "data_loader = DataLoader(dataset=corpus_dataset, batch_size=8)"
   ]
  },
  {
   "cell_type": "markdown",
   "id": "ba298a18",
   "metadata": {},
   "source": [
    "Verify outputs."
   ]
  },
  {
   "cell_type": "code",
   "execution_count": null,
   "id": "55b748ff",
   "metadata": {},
   "outputs": [],
   "source": [
    "for x, y in data_loader:\n",
    "    print(x.shape, y.shape)\n",
    "    break"
   ]
  },
  {
   "cell_type": "code",
   "execution_count": null,
   "id": "8228672c",
   "metadata": {},
   "outputs": [],
   "source": [
    "for decode_x, decode_y in zip(tokenizer.batch_decode(x), tokenizer.batch_decode(y)):\n",
    "    print(\"Input\", decode_x)\n",
    "    print(\"Output\", decode_y)"
   ]
  },
  {
   "cell_type": "code",
   "execution_count": null,
   "id": "d78d3de5",
   "metadata": {},
   "outputs": [],
   "source": [
    "with open(corpus_dataset.file_list[0], 'r', encoding='utf8') as f_handle:\n",
    "    verify_corpus = f_handle.read()"
   ]
  },
  {
   "cell_type": "code",
   "execution_count": null,
   "id": "997114c5",
   "metadata": {},
   "outputs": [],
   "source": [
    "verify_corpus[:1000]"
   ]
  },
  {
   "cell_type": "markdown",
   "id": "7dcd2e33",
   "metadata": {},
   "source": [
    "Verify Code"
   ]
  },
  {
   "cell_type": "code",
   "execution_count": null,
   "id": "c077ec61",
   "metadata": {},
   "outputs": [],
   "source": [
    "from libs.CorpusDataset import CorpusDataset\n",
    "from transformers import AutoTokenizer\n",
    "import glob\n",
    "from torch.utils.data import DataLoader, IterableDataset\n",
    "import torch\n",
    "# Load the tokenizer we've trained.\n",
    "tokenizer = AutoTokenizer.from_pretrained(\"ikit-claw-nlp/toy-llm\")\n",
    "print(\"The vocabulary has\", tokenizer.vocab_size, \"tokens.\")\n",
    "file_list = glob.glob(\"data/full_text/*.txt\")\n",
    "corpus_dataset = CorpusDataset(file_list=file_list,\n",
    "                               window_size=256,\n",
    "                               step_length=128,\n",
    "                               tokenizer=tokenizer)\n",
    "data_loader = DataLoader(dataset=corpus_dataset, batch_size=10000)\n",
    "for x, y in data_loader:\n",
    "    print(x.shape, y.shape)"
   ]
  }
 ],
 "metadata": {
  "kernelspec": {
   "display_name": "llm",
   "language": "python",
   "name": "python3"
  },
  "language_info": {
   "codemirror_mode": {
    "name": "ipython",
    "version": 3
   },
   "file_extension": ".py",
   "mimetype": "text/x-python",
   "name": "python",
   "nbconvert_exporter": "python",
   "pygments_lexer": "ipython3",
   "version": "3.12.9"
  }
 },
 "nbformat": 4,
 "nbformat_minor": 5
}
