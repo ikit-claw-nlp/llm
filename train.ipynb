{
 "cells": [
  {
   "cell_type": "code",
   "execution_count": 1,
   "id": "eb3f4745",
   "metadata": {},
   "outputs": [],
   "source": [
    "from libs.GPT import GPT\n",
    "from libs.CorpusDataset import CorpusDataset\n",
    "import torch\n",
    "import torch.nn as nn\n",
    "from transformers import AutoTokenizer\n",
    "import glob\n",
    "torch.set_default_device('cuda')\n",
    "tokenizer = AutoTokenizer.from_pretrained(\"ikit-claw-nlp/toy-llm\")\n",
    "GPT_CONFIG_124M = {\n",
    "    \"vocab_size\": tokenizer.vocab_size,\n",
    "    \"pad_idx\": tokenizer.convert_tokens_to_ids(\"<pad>\"),\n",
    "    \"context_length\": 256, #max context length\n",
    "    \"emb_dim\": 768,\n",
    "    \"n_heads\": 12,\n",
    "    \"n_layers\": 12,\n",
    "    \"drop_rate\": 0.1,\n",
    "    \"qkv_bias\": False\n",
    "}\n"
   ]
  },
  {
   "cell_type": "code",
   "execution_count": 2,
   "id": "bda1646f",
   "metadata": {},
   "outputs": [],
   "source": [
    "model = GPT(GPT_CONFIG_124M)\n",
    "model = nn.DataParallel(model)"
   ]
  },
  {
   "cell_type": "code",
   "execution_count": 3,
   "id": "895c2a03",
   "metadata": {},
   "outputs": [],
   "source": [
    "text_files = glob.glob(\"data/text/*.txt\")\n",
    "train_text_files = text_files[0: int(len(text_files)*0.8)]\n",
    "valid_text_files = text_files[int(len(text_files)*0.8): int(len(text_files)*0.9)]\n",
    "test_text_files = text_files[int(len(text_files)*0.9):]\n",
    "\n",
    "train_dataset = CorpusDataset(train_text_files, window_size=GPT_CONFIG_124M['context_length'], step_length=1, tokenizer=tokenizer)\n",
    "train_dataloader = torch.utils.data.DataLoader(dataset=train_dataset, batch_size=8)"
   ]
  },
  {
   "cell_type": "code",
   "execution_count": 4,
   "id": "d6a5c3e3",
   "metadata": {},
   "outputs": [
    {
     "name": "stdout",
     "output_type": "stream",
     "text": [
      "Loading the dataset data/text/article_1-1000.txt into memory...\n",
      "Converting the dataset to token ids...\n",
      "Conversion Complete. torch.Size([7540024]) Tokens in the corpus.\n",
      "Batch 0 Loss tensor(11.0155, device='cuda:0', grad_fn=<NllLossBackward0>)\n",
      "\n",
      "Batch 100 Loss tensor(1.4173, device='cuda:0', grad_fn=<NllLossBackward0>)\n",
      "\n",
      "Batch 200 Loss tensor(0.3953, device='cuda:0', grad_fn=<NllLossBackward0>)\n",
      "\n",
      "Batch 300 Loss tensor(0.2588, device='cuda:0', grad_fn=<NllLossBackward0>)\n",
      "\n",
      "Batch 400 Loss tensor(0.4566, device='cuda:0', grad_fn=<NllLossBackward0>)\n",
      "\n",
      "Batch 500 Loss tensor(0.2034, device='cuda:0', grad_fn=<NllLossBackward0>)\n",
      "\n",
      "Batch 600 Loss tensor(0.2056, device='cuda:0', grad_fn=<NllLossBackward0>)\n",
      "\n",
      "Batch 700 Loss tensor(0.6276, device='cuda:0', grad_fn=<NllLossBackward0>)\n",
      "\n",
      "Batch 800 Loss tensor(1.1480, device='cuda:0', grad_fn=<NllLossBackward0>)\n",
      "\n",
      "Batch 900 Loss tensor(0.4210, device='cuda:0', grad_fn=<NllLossBackward0>)\n",
      "\n",
      "Batch 1000 Loss tensor(0.3941, device='cuda:0', grad_fn=<NllLossBackward0>)\n",
      "\n",
      "Batch 1100 Loss tensor(0.4544, device='cuda:0', grad_fn=<NllLossBackward0>)\n",
      "\n",
      "Batch 1200 Loss tensor(0.6354, device='cuda:0', grad_fn=<NllLossBackward0>)\n",
      "\n",
      "Batch 1300 Loss tensor(0.3635, device='cuda:0', grad_fn=<NllLossBackward0>)\n",
      "\n",
      "Batch 1400 Loss tensor(0.3346, device='cuda:0', grad_fn=<NllLossBackward0>)\n",
      "\n",
      "Batch 1500 Loss tensor(0.6232, device='cuda:0', grad_fn=<NllLossBackward0>)\n",
      "\n",
      "Batch 1600 Loss tensor(0.6868, device='cuda:0', grad_fn=<NllLossBackward0>)\n",
      "\n",
      "Batch 1700 Loss tensor(0.4125, device='cuda:0', grad_fn=<NllLossBackward0>)\n",
      "\n",
      "Batch 1800 Loss tensor(0.8392, device='cuda:0', grad_fn=<NllLossBackward0>)\n",
      "\n",
      "Batch 1900 Loss tensor(1.1473, device='cuda:0', grad_fn=<NllLossBackward0>)\n",
      "\n",
      "Batch 2000 Loss tensor(0.3497, device='cuda:0', grad_fn=<NllLossBackward0>)\n",
      "\n",
      "Batch 2100 Loss tensor(0.3087, device='cuda:0', grad_fn=<NllLossBackward0>)\n",
      "\n",
      "Training Batch 2196\r"
     ]
    },
    {
     "ename": "KeyboardInterrupt",
     "evalue": "",
     "output_type": "error",
     "traceback": [
      "\u001b[31m---------------------------------------------------------------------------\u001b[39m",
      "\u001b[31mKeyboardInterrupt\u001b[39m                         Traceback (most recent call last)",
      "\u001b[36mCell\u001b[39m\u001b[36m \u001b[39m\u001b[32mIn[4]\u001b[39m\u001b[32m, line 10\u001b[39m\n\u001b[32m      8\u001b[39m \u001b[38;5;28;01mfor\u001b[39;00m idx, (x, y) \u001b[38;5;129;01min\u001b[39;00m \u001b[38;5;28menumerate\u001b[39m(train_dataloader):\n\u001b[32m      9\u001b[39m     optimizer.zero_grad()\n\u001b[32m---> \u001b[39m\u001b[32m10\u001b[39m     logits = \u001b[43mmodel\u001b[49m\u001b[43m(\u001b[49m\u001b[43mx\u001b[49m\u001b[43m)\u001b[49m\n\u001b[32m     11\u001b[39m     logits = logits.flatten(\u001b[32m0\u001b[39m, \u001b[32m1\u001b[39m)\n\u001b[32m     12\u001b[39m     y = y.flatten(\u001b[32m0\u001b[39m,\u001b[32m1\u001b[39m)\n",
      "\u001b[36mFile \u001b[39m\u001b[32m~/miniconda3/envs/llm/lib/python3.12/site-packages/torch/nn/modules/module.py:1739\u001b[39m, in \u001b[36mModule._wrapped_call_impl\u001b[39m\u001b[34m(self, *args, **kwargs)\u001b[39m\n\u001b[32m   1737\u001b[39m     \u001b[38;5;28;01mreturn\u001b[39;00m \u001b[38;5;28mself\u001b[39m._compiled_call_impl(*args, **kwargs)  \u001b[38;5;66;03m# type: ignore[misc]\u001b[39;00m\n\u001b[32m   1738\u001b[39m \u001b[38;5;28;01melse\u001b[39;00m:\n\u001b[32m-> \u001b[39m\u001b[32m1739\u001b[39m     \u001b[38;5;28;01mreturn\u001b[39;00m \u001b[38;5;28;43mself\u001b[39;49m\u001b[43m.\u001b[49m\u001b[43m_call_impl\u001b[49m\u001b[43m(\u001b[49m\u001b[43m*\u001b[49m\u001b[43margs\u001b[49m\u001b[43m,\u001b[49m\u001b[43m \u001b[49m\u001b[43m*\u001b[49m\u001b[43m*\u001b[49m\u001b[43mkwargs\u001b[49m\u001b[43m)\u001b[49m\n",
      "\u001b[36mFile \u001b[39m\u001b[32m~/miniconda3/envs/llm/lib/python3.12/site-packages/torch/nn/modules/module.py:1750\u001b[39m, in \u001b[36mModule._call_impl\u001b[39m\u001b[34m(self, *args, **kwargs)\u001b[39m\n\u001b[32m   1745\u001b[39m \u001b[38;5;66;03m# If we don't have any hooks, we want to skip the rest of the logic in\u001b[39;00m\n\u001b[32m   1746\u001b[39m \u001b[38;5;66;03m# this function, and just call forward.\u001b[39;00m\n\u001b[32m   1747\u001b[39m \u001b[38;5;28;01mif\u001b[39;00m \u001b[38;5;129;01mnot\u001b[39;00m (\u001b[38;5;28mself\u001b[39m._backward_hooks \u001b[38;5;129;01mor\u001b[39;00m \u001b[38;5;28mself\u001b[39m._backward_pre_hooks \u001b[38;5;129;01mor\u001b[39;00m \u001b[38;5;28mself\u001b[39m._forward_hooks \u001b[38;5;129;01mor\u001b[39;00m \u001b[38;5;28mself\u001b[39m._forward_pre_hooks\n\u001b[32m   1748\u001b[39m         \u001b[38;5;129;01mor\u001b[39;00m _global_backward_pre_hooks \u001b[38;5;129;01mor\u001b[39;00m _global_backward_hooks\n\u001b[32m   1749\u001b[39m         \u001b[38;5;129;01mor\u001b[39;00m _global_forward_hooks \u001b[38;5;129;01mor\u001b[39;00m _global_forward_pre_hooks):\n\u001b[32m-> \u001b[39m\u001b[32m1750\u001b[39m     \u001b[38;5;28;01mreturn\u001b[39;00m \u001b[43mforward_call\u001b[49m\u001b[43m(\u001b[49m\u001b[43m*\u001b[49m\u001b[43margs\u001b[49m\u001b[43m,\u001b[49m\u001b[43m \u001b[49m\u001b[43m*\u001b[49m\u001b[43m*\u001b[49m\u001b[43mkwargs\u001b[49m\u001b[43m)\u001b[49m\n\u001b[32m   1752\u001b[39m result = \u001b[38;5;28;01mNone\u001b[39;00m\n\u001b[32m   1753\u001b[39m called_always_called_hooks = \u001b[38;5;28mset\u001b[39m()\n",
      "\u001b[36mFile \u001b[39m\u001b[32m~/miniconda3/envs/llm/lib/python3.12/site-packages/torch/nn/parallel/data_parallel.py:193\u001b[39m, in \u001b[36mDataParallel.forward\u001b[39m\u001b[34m(self, *inputs, **kwargs)\u001b[39m\n\u001b[32m    191\u001b[39m     \u001b[38;5;28;01mreturn\u001b[39;00m \u001b[38;5;28mself\u001b[39m.module(*inputs[\u001b[32m0\u001b[39m], **module_kwargs[\u001b[32m0\u001b[39m])\n\u001b[32m    192\u001b[39m replicas = \u001b[38;5;28mself\u001b[39m.replicate(\u001b[38;5;28mself\u001b[39m.module, \u001b[38;5;28mself\u001b[39m.device_ids[: \u001b[38;5;28mlen\u001b[39m(inputs)])\n\u001b[32m--> \u001b[39m\u001b[32m193\u001b[39m outputs = \u001b[38;5;28;43mself\u001b[39;49m\u001b[43m.\u001b[49m\u001b[43mparallel_apply\u001b[49m\u001b[43m(\u001b[49m\u001b[43mreplicas\u001b[49m\u001b[43m,\u001b[49m\u001b[43m \u001b[49m\u001b[43minputs\u001b[49m\u001b[43m,\u001b[49m\u001b[43m \u001b[49m\u001b[43mmodule_kwargs\u001b[49m\u001b[43m)\u001b[49m\n\u001b[32m    194\u001b[39m \u001b[38;5;28;01mreturn\u001b[39;00m \u001b[38;5;28mself\u001b[39m.gather(outputs, \u001b[38;5;28mself\u001b[39m.output_device)\n",
      "\u001b[36mFile \u001b[39m\u001b[32m~/miniconda3/envs/llm/lib/python3.12/site-packages/torch/nn/parallel/data_parallel.py:212\u001b[39m, in \u001b[36mDataParallel.parallel_apply\u001b[39m\u001b[34m(self, replicas, inputs, kwargs)\u001b[39m\n\u001b[32m    209\u001b[39m \u001b[38;5;28;01mdef\u001b[39;00m\u001b[38;5;250m \u001b[39m\u001b[34mparallel_apply\u001b[39m(\n\u001b[32m    210\u001b[39m     \u001b[38;5;28mself\u001b[39m, replicas: Sequence[T], inputs: Sequence[Any], kwargs: Any\n\u001b[32m    211\u001b[39m ) -> List[Any]:\n\u001b[32m--> \u001b[39m\u001b[32m212\u001b[39m     \u001b[38;5;28;01mreturn\u001b[39;00m \u001b[43mparallel_apply\u001b[49m\u001b[43m(\u001b[49m\n\u001b[32m    213\u001b[39m \u001b[43m        \u001b[49m\u001b[43mreplicas\u001b[49m\u001b[43m,\u001b[49m\u001b[43m \u001b[49m\u001b[43minputs\u001b[49m\u001b[43m,\u001b[49m\u001b[43m \u001b[49m\u001b[43mkwargs\u001b[49m\u001b[43m,\u001b[49m\u001b[43m \u001b[49m\u001b[38;5;28;43mself\u001b[39;49m\u001b[43m.\u001b[49m\u001b[43mdevice_ids\u001b[49m\u001b[43m[\u001b[49m\u001b[43m:\u001b[49m\u001b[43m \u001b[49m\u001b[38;5;28;43mlen\u001b[39;49m\u001b[43m(\u001b[49m\u001b[43mreplicas\u001b[49m\u001b[43m)\u001b[49m\u001b[43m]\u001b[49m\n\u001b[32m    214\u001b[39m \u001b[43m    \u001b[49m\u001b[43m)\u001b[49m\n",
      "\u001b[36mFile \u001b[39m\u001b[32m~/miniconda3/envs/llm/lib/python3.12/site-packages/torch/nn/parallel/parallel_apply.py:116\u001b[39m, in \u001b[36mparallel_apply\u001b[39m\u001b[34m(modules, inputs, kwargs_tup, devices)\u001b[39m\n\u001b[32m    106\u001b[39m threads = [\n\u001b[32m    107\u001b[39m     threading.Thread(\n\u001b[32m    108\u001b[39m         target=_worker, args=(i, module, \u001b[38;5;28minput\u001b[39m, kwargs, device, stream)\n\u001b[32m   (...)\u001b[39m\u001b[32m    112\u001b[39m     )\n\u001b[32m    113\u001b[39m ]\n\u001b[32m    115\u001b[39m \u001b[38;5;28;01mfor\u001b[39;00m thread \u001b[38;5;129;01min\u001b[39;00m threads:\n\u001b[32m--> \u001b[39m\u001b[32m116\u001b[39m     \u001b[43mthread\u001b[49m\u001b[43m.\u001b[49m\u001b[43mstart\u001b[49m\u001b[43m(\u001b[49m\u001b[43m)\u001b[49m\n\u001b[32m    117\u001b[39m \u001b[38;5;28;01mfor\u001b[39;00m thread \u001b[38;5;129;01min\u001b[39;00m threads:\n\u001b[32m    118\u001b[39m     thread.join()\n",
      "\u001b[36mFile \u001b[39m\u001b[32m~/miniconda3/envs/llm/lib/python3.12/threading.py:994\u001b[39m, in \u001b[36mThread.start\u001b[39m\u001b[34m(self)\u001b[39m\n\u001b[32m    992\u001b[39m     _limbo[\u001b[38;5;28mself\u001b[39m] = \u001b[38;5;28mself\u001b[39m\n\u001b[32m    993\u001b[39m \u001b[38;5;28;01mtry\u001b[39;00m:\n\u001b[32m--> \u001b[39m\u001b[32m994\u001b[39m     \u001b[43m_start_new_thread\u001b[49m\u001b[43m(\u001b[49m\u001b[38;5;28;43mself\u001b[39;49m\u001b[43m.\u001b[49m\u001b[43m_bootstrap\u001b[49m\u001b[43m,\u001b[49m\u001b[43m \u001b[49m\u001b[43m(\u001b[49m\u001b[43m)\u001b[49m\u001b[43m)\u001b[49m\n\u001b[32m    995\u001b[39m \u001b[38;5;28;01mexcept\u001b[39;00m \u001b[38;5;167;01mException\u001b[39;00m:\n\u001b[32m    996\u001b[39m     \u001b[38;5;28;01mwith\u001b[39;00m _active_limbo_lock:\n",
      "\u001b[31mKeyboardInterrupt\u001b[39m: "
     ]
    }
   ],
   "source": [
    "optimizer = torch.optim.AdamW(\n",
    "    model.parameters(),\n",
    "    lr = 4e-4,\n",
    "    weight_decay=0.1\n",
    ")\n",
    "max_epoch_num = 5\n",
    "for _ in range(max_epoch_num):\n",
    "    for idx, (x, y) in enumerate(train_dataloader):\n",
    "        optimizer.zero_grad()\n",
    "        logits = model(x)\n",
    "        logits = logits.flatten(0, 1)\n",
    "        y = y.flatten(0,1)\n",
    "        loss = torch.nn.functional.cross_entropy(logits, y)\n",
    "        if idx % 100 == 0:\n",
    "            print(\"Batch\", idx, \"Loss\", loss)\n",
    "            print()\n",
    "        loss.backward()\n",
    "        optimizer.step()\n",
    "\n",
    "        print(\"Training Batch\", idx, end=\"\\r\")"
   ]
  },
  {
   "cell_type": "code",
   "execution_count": null,
   "id": "2dd11489",
   "metadata": {},
   "outputs": [],
   "source": [
    "logits = model(x)\n",
    "print(logits.flatten(0,1).shape)\n",
    "print(y.flatten(0,1).shape)\n",
    "loss = torch.nn.functional.cross_entropy(logits.flatten(0,1), y.flatten(0,1))"
   ]
  }
 ],
 "metadata": {
  "kernelspec": {
   "display_name": "llm",
   "language": "python",
   "name": "python3"
  },
  "language_info": {
   "codemirror_mode": {
    "name": "ipython",
    "version": 3
   },
   "file_extension": ".py",
   "mimetype": "text/x-python",
   "name": "python",
   "nbconvert_exporter": "python",
   "pygments_lexer": "ipython3",
   "version": "3.12.9"
  }
 },
 "nbformat": 4,
 "nbformat_minor": 5
}
