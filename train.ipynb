{
 "cells": [
  {
   "cell_type": "code",
   "execution_count": 1,
   "id": "eb3f4745",
   "metadata": {},
   "outputs": [],
   "source": [
    "from libs.GPT import GPT\n",
    "from libs.CorpusDataset import CorpusDataset\n",
    "import torch\n",
    "import torch.nn as nn\n",
    "from transformers import AutoTokenizer\n",
    "import glob\n",
    "torch.set_default_device('cuda')\n",
    "tokenizer = AutoTokenizer.from_pretrained(\"ikit-claw-nlp/toy-llm\")\n",
    "GPT_CONFIG_124M = {\n",
    "    \"vocab_size\": tokenizer.vocab_size,\n",
    "    \"pad_idx\": tokenizer.convert_tokens_to_ids(\"<pad>\"),\n",
    "    \"context_length\": 256, #max context length\n",
    "    \"emb_dim\": 768,\n",
    "    \"n_heads\": 12,\n",
    "    \"n_layers\": 12,\n",
    "    \"drop_rate\": 0.1,\n",
    "    \"qkv_bias\": False\n",
    "}\n"
   ]
  },
  {
   "cell_type": "code",
   "execution_count": 2,
   "id": "bda1646f",
   "metadata": {},
   "outputs": [],
   "source": [
    "model = GPT(GPT_CONFIG_124M)\n",
    "model = nn.DataParallel(model)"
   ]
  },
  {
   "cell_type": "code",
   "execution_count": 3,
   "id": "895c2a03",
   "metadata": {},
   "outputs": [],
   "source": [
    "text_files = glob.glob(\"data/text/*.txt\")\n",
    "train_text_files = text_files[0: int(len(text_files)*0.8)]\n",
    "valid_text_files = text_files[int(len(text_files)*0.8): int(len(text_files)*0.9)]\n",
    "test_text_files = text_files[int(len(text_files)*0.9):]\n",
    "\n",
    "train_dataset = CorpusDataset(train_text_files, window_size=GPT_CONFIG_124M['context_length'], step_length=1, tokenizer=tokenizer)\n",
    "train_dataloader = torch.utils.data.DataLoader(dataset=train_dataset, batch_size=8)"
   ]
  },
  {
   "cell_type": "code",
   "execution_count": null,
   "id": "d6a5c3e3",
   "metadata": {},
   "outputs": [
    {
     "name": "stdout",
     "output_type": "stream",
     "text": [
      "Loading the dataset data/text/article_1-1000.txt into memory...\n",
      "Converting the dataset to token ids...\n",
      "Conversion Complete. torch.Size([7540024]) Tokens in the corpus.\n",
      "Batch 0 Loss tensor(10.9617, device='cuda:0', grad_fn=<NllLossBackward0>)\n",
      "\n"
     ]
    },
    {
     "ename": "TypeError",
     "evalue": "'ends' is an invalid keyword argument for print()",
     "output_type": "error",
     "traceback": [
      "\u001b[31m---------------------------------------------------------------------------\u001b[39m",
      "\u001b[31mTypeError\u001b[39m                                 Traceback (most recent call last)",
      "\u001b[36mCell\u001b[39m\u001b[36m \u001b[39m\u001b[32mIn[4]\u001b[39m\u001b[32m, line 20\u001b[39m\n\u001b[32m     17\u001b[39m loss.backward()\n\u001b[32m     18\u001b[39m optimizer.step()\n\u001b[32m---> \u001b[39m\u001b[32m20\u001b[39m \u001b[38;5;28;43mprint\u001b[39;49m\u001b[43m(\u001b[49m\u001b[33;43m\"\u001b[39;49m\u001b[33;43mTraining Batch\u001b[39;49m\u001b[33;43m\"\u001b[39;49m\u001b[43m,\u001b[49m\u001b[43m \u001b[49m\u001b[43midx\u001b[49m\u001b[43m,\u001b[49m\u001b[43m \u001b[49m\u001b[43mends\u001b[49m\u001b[43m=\u001b[49m\u001b[33;43m\"\u001b[39;49m\u001b[38;5;130;43;01m\\r\u001b[39;49;00m\u001b[33;43m\"\u001b[39;49m\u001b[43m)\u001b[49m\n",
      "\u001b[31mTypeError\u001b[39m: 'ends' is an invalid keyword argument for print()"
     ]
    }
   ],
   "source": [
    "optimizer = torch.optim.AdamW(\n",
    "    model.parameters(),\n",
    "    lr = 4e-4,\n",
    "    weight_decay=0.1\n",
    ")\n",
    "max_epoch_num = 5\n",
    "for _ in range(max_epoch_num):\n",
    "    for idx, (x, y) in enumerate(train_dataloader):\n",
    "        optimizer.zero_grad()\n",
    "        logits = model(x)\n",
    "        logits = logits.flatten(0, 1)\n",
    "        y = y.flatten(0,1)\n",
    "        loss = torch.nn.functional.cross_entropy(logits, y)\n",
    "        if idx % 100 == 0:\n",
    "            print(\"Batch\", idx, \"Loss\", loss)\n",
    "            print()\n",
    "        loss.backward()\n",
    "        optimizer.step()\n",
    "\n",
    "        print(\"Training Batch\", idx, end=\"\\r\")"
   ]
  },
  {
   "cell_type": "code",
   "execution_count": null,
   "id": "2dd11489",
   "metadata": {},
   "outputs": [],
   "source": [
    "logits = model(x)\n",
    "print(logits.flatten(0,1).shape)\n",
    "print(y.flatten(0,1).shape)\n",
    "loss = torch.nn.functional.cross_entropy(logits.flatten(0,1), y.flatten(0,1))"
   ]
  }
 ],
 "metadata": {
  "kernelspec": {
   "display_name": "llm",
   "language": "python",
   "name": "python3"
  },
  "language_info": {
   "codemirror_mode": {
    "name": "ipython",
    "version": 3
   },
   "file_extension": ".py",
   "mimetype": "text/x-python",
   "name": "python",
   "nbconvert_exporter": "python",
   "pygments_lexer": "ipython3",
   "version": "3.12.9"
  }
 },
 "nbformat": 4,
 "nbformat_minor": 5
}
