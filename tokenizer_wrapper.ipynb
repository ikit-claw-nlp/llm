{
 "cells": [
  {
   "cell_type": "code",
   "execution_count": null,
   "id": "83268ac1",
   "metadata": {},
   "outputs": [],
   "source": [
    "from transformers import PreTrainedTokenizerFast\n",
    "# This must be the same list as the special_tokens in the train_tokenizer.py.\n",
    "special_tokens = [\"<s>\", \"<pad>\", \"</s>\", \"<unk>\", \"<cls>\", \"<sep>\", \"<mask>\"]"
   ]
  },
  {
   "cell_type": "code",
   "execution_count": null,
   "id": "cb43d722",
   "metadata": {},
   "outputs": [],
   "source": [
    "tokenizer = PreTrainedTokenizerFast(tokenizer_file=\"tiny_llm_tokenizer/tokenizer.json\", special_tokens=special_tokens)\n",
    "tokenizer.bos_token = \"<s>\"\n",
    "tokenizer.bos_token_id = tokenizer.token_to_id(\"<s>\")\n",
    "tokenizer.pad_token = \"<pad>\"\n",
    "tokenizer.pad_token_id = tokenizer.token_to_id(\"<pad>\")\n",
    "tokenizer.eos_token = \"</s>\"\n",
    "tokenizer.eos_token_id = tokenizer.token_to_id(\"</s>\")\n",
    "tokenizer.unk_token = \"<unk>\"\n",
    "tokenizer.unk_token_id = tokenizer.token_to_id(\"<unk>\")\n",
    "tokenizer.cls_token = \"<cls>\"\n",
    "tokenizer.cls_token_id = tokenizer.token_to_id(\"<cls>\")\n",
    "tokenizer.sep_token = \"<sep>\"\n",
    "tokenizer.sep_token_id = tokenizer.token_to_id(\"<sep>\")\n",
    "tokenizer.mask_token = \"<mask>\"\n",
    "tokenizer.mask_token_id = tokenizer.token_to_id(\"<mask>\")\n",
    "# and save for later!\n",
    "tokenizer.save_pretrained(\"ikit-llm\")\n"
   ]
  }
 ],
 "metadata": {
  "kernelspec": {
   "display_name": "Python 3 (ipykernel)",
   "language": "python",
   "name": "python3"
  },
  "language_info": {
   "codemirror_mode": {
    "name": "ipython",
    "version": 3
   },
   "file_extension": ".py",
   "mimetype": "text/x-python",
   "name": "python",
   "nbconvert_exporter": "python",
   "pygments_lexer": "ipython3",
   "version": "3.12.9"
  }
 },
 "nbformat": 4,
 "nbformat_minor": 5
}
