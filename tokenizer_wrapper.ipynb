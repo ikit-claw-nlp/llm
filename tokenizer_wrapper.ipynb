{
 "cells": [
  {
   "cell_type": "code",
   "execution_count": 1,
   "id": "83268ac1",
   "metadata": {},
   "outputs": [
    {
     "name": "stderr",
     "output_type": "stream",
     "text": [
      "None of PyTorch, TensorFlow >= 2.0, or Flax have been found. Models won't be available and only tokenizers, configuration and file/data utilities can be used.\n"
     ]
    }
   ],
   "source": [
    "from transformers import PreTrainedTokenizerFast\n",
    "from tokenizers import SentencePieceBPETokenizer\n",
    "# This must be the same list as the special_tokens in the train_tokenizer.py.\n",
    "special_tokens = [\"<s>\", \"<pad>\", \"</s>\", \"<unk>\", \"<cls>\", \"<sep>\", \"<mask>\"]"
   ]
  },
  {
   "cell_type": "code",
   "execution_count": 2,
   "id": "cb43d722",
   "metadata": {},
   "outputs": [
    {
     "data": {
      "text/plain": [
       "('ikit-llm/tokenizer_config.json',\n",
       " 'ikit-llm/special_tokens_map.json',\n",
       " 'ikit-llm/tokenizer.json')"
      ]
     },
     "execution_count": 2,
     "metadata": {},
     "output_type": "execute_result"
    }
   ],
   "source": [
    "tokenizer = PreTrainedTokenizerFast(tokenizer_file=\"tiny_llm_tokenizer/tokenizer.json\", special_tokens=special_tokens)\n",
    "tokenizer.bos_token = \"<s>\"\n",
    "tokenizer.pad_token = \"<pad>\"\n",
    "tokenizer.eos_token = \"</s>\"\n",
    "tokenizer.unk_token = \"<unk>\"\n",
    "tokenizer.cls_token = \"<cls>\"\n",
    "tokenizer.sep_token = \"<sep>\"\n",
    "tokenizer.mask_token = \"<mask>\"\n",
    "# and save for later!\n",
    "tokenizer.save_pretrained(\"ikit-llm\")\n"
   ]
  },
  {
   "cell_type": "code",
   "execution_count": null,
   "id": "8604de79-9475-4175-8a34-e7d0d6242519",
   "metadata": {},
   "outputs": [],
   "source": [
    "tokenizer.push_to_hub(repo_id='foo')"
   ]
  }
 ],
 "metadata": {
  "kernelspec": {
   "display_name": "Python 3 (ipykernel)",
   "language": "python",
   "name": "python3"
  },
  "language_info": {
   "codemirror_mode": {
    "name": "ipython",
    "version": 3
   },
   "file_extension": ".py",
   "mimetype": "text/x-python",
   "name": "python",
   "nbconvert_exporter": "python",
   "pygments_lexer": "ipython3",
   "version": "3.12.9"
  }
 },
 "nbformat": 4,
 "nbformat_minor": 5
}
