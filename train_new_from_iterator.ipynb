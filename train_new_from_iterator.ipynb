{
 "cells": [
  {
   "cell_type": "code",
   "execution_count": 1,
   "id": "aff37d45",
   "metadata": {},
   "outputs": [
    {
     "name": "stderr",
     "output_type": "stream",
     "text": [
      "None of PyTorch, TensorFlow >= 2.0, or Flax have been found. Models won't be available and only tokenizers, configuration and file/data utilities can be used.\n"
     ]
    }
   ],
   "source": [
    "import os\n",
    "import glob\n",
    "from transformers import AutoTokenizer"
   ]
  },
  {
   "cell_type": "code",
   "execution_count": 2,
   "id": "f4454f4b",
   "metadata": {},
   "outputs": [],
   "source": [
    "rakuten_tokenizer = AutoTokenizer.from_pretrained(\"Rakuten/RakutenAI-7B\")"
   ]
  },
  {
   "cell_type": "code",
   "execution_count": 3,
   "id": "e6786196",
   "metadata": {},
   "outputs": [
    {
     "data": {
      "text/plain": [
       "48000"
      ]
     },
     "execution_count": 3,
     "metadata": {},
     "output_type": "execute_result"
    }
   ],
   "source": [
    "rakuten_tokenizer.vocab_size"
   ]
  },
  {
   "cell_type": "code",
   "execution_count": null,
   "id": "2da69219",
   "metadata": {},
   "outputs": [],
   "source": [
    "def corpus_iterator_func():\n",
    "    corpus_files = glob.glob(\"./data/text/*.txt\")\n",
    "    for file in corpus_files:\n",
    "        with open(file, 'r', encoding='utf8') as f_handle:\n",
    "            corpus_text = file.read()\n",
    "        for idx in range(0, len(corpus_text), 1000):\n",
    "            yield corpus_text[idx: idx + 1000]"
   ]
  },
  {
   "cell_type": "code",
   "execution_count": null,
   "id": "5e9c9198",
   "metadata": {},
   "outputs": [],
   "source": [
    "corpus_iter = corpus_iterator_func()"
   ]
  },
  {
   "cell_type": "code",
   "execution_count": null,
   "id": "b77fc4f2",
   "metadata": {},
   "outputs": [],
   "source": [
    "tokenizer = rakuten_tokenizer.train_new_from_iterator(\n",
    "    corpus_iter,\n",
    "    vocab_size = 10000,\n",
    "    show_progress = True\n",
    ")"
   ]
  }
 ],
 "metadata": {
  "kernelspec": {
   "display_name": "llm",
   "language": "python",
   "name": "python3"
  },
  "language_info": {
   "codemirror_mode": {
    "name": "ipython",
    "version": 3
   },
   "file_extension": ".py",
   "mimetype": "text/x-python",
   "name": "python",
   "nbconvert_exporter": "python",
   "pygments_lexer": "ipython3",
   "version": "3.12.9"
  }
 },
 "nbformat": 4,
 "nbformat_minor": 5
}
