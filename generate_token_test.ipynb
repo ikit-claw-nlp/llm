{
 "cells": [
  {
   "cell_type": "code",
   "execution_count": null,
   "id": "f7f6df00",
   "metadata": {},
   "outputs": [],
   "source": [
    "from libs.GPT import GPT\n",
    "from libs.CorpusDataset import CorpusDataset\n",
    "import torch\n",
    "import torch.nn as nn\n",
    "from transformers import AutoTokenizer\n",
    "import glob\n",
    "torch.set_default_device('cuda')"
   ]
  },
  {
   "cell_type": "code",
   "execution_count": null,
   "id": "c892957e",
   "metadata": {},
   "outputs": [],
   "source": [
    "tokenizer = AutoTokenizer.from_pretrained(\"ikit-claw-nlp/toy-llm\")\n",
    "GPT_CONFIG_124M = {\n",
    "    \"vocab_size\": tokenizer.vocab_size,\n",
    "    \"pad_idx\": tokenizer.convert_tokens_to_ids(\"<pad>\"),\n",
    "    \"context_length\": 1024, #max context length\n",
    "    \"emb_dim\": 768,\n",
    "    \"n_heads\": 12,\n",
    "    \"n_layers\": 12,\n",
    "    \"drop_rate\": 0.1,\n",
    "    \"qkv_bias\": False\n",
    "}\n"
   ]
  },
  {
   "cell_type": "code",
   "execution_count": null,
   "id": "5c33d9c5",
   "metadata": {},
   "outputs": [],
   "source": [
    "model = GPT(GPT_CONFIG_124M)"
   ]
  },
  {
   "cell_type": "code",
   "execution_count": null,
   "id": "a510d75b",
   "metadata": {},
   "outputs": [],
   "source": [
    "user_inputs = 'こんにちは、わたしは'"
   ]
  },
  {
   "cell_type": "code",
   "execution_count": null,
   "id": "b59d5482",
   "metadata": {},
   "outputs": [],
   "source": [
    "user_inputs_ids = tokenizer.encode(user_inputs, return_tensors=\"pt\")"
   ]
  },
  {
   "cell_type": "code",
   "execution_count": null,
   "id": "fc6f6ef8",
   "metadata": {},
   "outputs": [],
   "source": [
    "max_new_token_num = 10\n",
    "def generate_new_tokens(model, user_input_ids, context_size, max_new_token_num):\n",
    "    for _ in range(0, max_new_token_num):\n",
    "        # user_input_ids = [batch_size, sequence_length]\n",
    "        token_ids = user_input_ids[:, -context_size:]\n",
    "        # logits = [batch_size, max_context_length, dimension_size]\n",
    "        with torch.no_grad():\n",
    "            logits = model(token_ids)\n",
    "        # logits = [batch_size, 1, dimension_size] => we only care about the last token.\n",
    "        logits = logits[:, -1, :]\n",
    "        # genera\n",
    "        next_token_ids = torch.argmax(logits, dim=-1, keepdim=True)\n",
    "        user_input_ids = torch.cat((user_input_ids, next_token_ids), dim=1)\n",
    "    return user_input_ids"
   ]
  },
  {
   "cell_type": "code",
   "execution_count": null,
   "id": "4311e2d7",
   "metadata": {},
   "outputs": [],
   "source": [
    "generated_ids = generate_new_tokens(model=model, user_input_ids=user_inputs_ids, context_size=1024, max_new_token_num=10)"
   ]
  },
  {
   "cell_type": "code",
   "execution_count": null,
   "id": "6401e664",
   "metadata": {},
   "outputs": [],
   "source": [
    "print(\n",
    "    user_inputs_ids.shape,\n",
    "    generated_ids.shape,\n",
    "    tokenizer.decode(generated_ids[0,:])\n",
    ")"
   ]
  },
  {
   "cell_type": "code",
   "execution_count": null,
   "id": "058cba1a",
   "metadata": {},
   "outputs": [],
   "source": [
    "tokenizer.convert_ids_to_tokens(user_inputs_ids)"
   ]
  }
 ],
 "metadata": {
  "kernelspec": {
   "display_name": "llm",
   "language": "python",
   "name": "python3"
  },
  "language_info": {
   "codemirror_mode": {
    "name": "ipython",
    "version": 3
   },
   "file_extension": ".py",
   "mimetype": "text/x-python",
   "name": "python",
   "nbconvert_exporter": "python",
   "pygments_lexer": "ipython3",
   "version": "3.12.9"
  }
 },
 "nbformat": 4,
 "nbformat_minor": 5
}
