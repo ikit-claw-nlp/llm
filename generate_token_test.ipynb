{
 "cells": [
  {
   "cell_type": "code",
   "execution_count": 1,
   "id": "f7f6df00",
   "metadata": {},
   "outputs": [],
   "source": [
    "from libs.GPT import GPT\n",
    "from libs.CorpusDataset import CorpusDataset\n",
    "import torch\n",
    "import torch.nn as nn\n",
    "from transformers import AutoTokenizer\n",
    "import glob\n",
    "torch.set_default_device('cuda')"
   ]
  },
  {
   "cell_type": "code",
   "execution_count": 2,
   "id": "c892957e",
   "metadata": {},
   "outputs": [],
   "source": [
    "tokenizer = AutoTokenizer.from_pretrained(\"ikit-claw-nlp/toy-llm\")\n",
    "GPT_CONFIG_124M = {\n",
    "    \"vocab_size\": tokenizer.vocab_size,\n",
    "    \"pad_idx\": tokenizer.convert_tokens_to_ids(\"<pad>\"),\n",
    "    \"context_length\": 1024, #max context length\n",
    "    \"emb_dim\": 768,\n",
    "    \"n_heads\": 12,\n",
    "    \"n_layers\": 12,\n",
    "    \"drop_rate\": 0.1,\n",
    "    \"qkv_bias\": False\n",
    "}\n"
   ]
  },
  {
   "cell_type": "code",
   "execution_count": 5,
   "id": "5c33d9c5",
   "metadata": {},
   "outputs": [],
   "source": [
    "model = GPT(GPT_CONFIG_124M)"
   ]
  },
  {
   "cell_type": "code",
   "execution_count": 85,
   "id": "a510d75b",
   "metadata": {},
   "outputs": [],
   "source": [
    "user_inputs = 'こんにちは、わたしは'"
   ]
  },
  {
   "cell_type": "code",
   "execution_count": 86,
   "id": "b59d5482",
   "metadata": {},
   "outputs": [],
   "source": [
    "user_inputs_ids = tokenizer.encode(user_inputs, return_tensors=\"pt\")"
   ]
  },
  {
   "cell_type": "code",
   "execution_count": null,
   "id": "fc6f6ef8",
   "metadata": {},
   "outputs": [],
   "source": [
    "max_new_token_num = 10\n",
    "def generate_new_tokens(model, user_input_ids, context_size, max_new_token_num):\n",
    "    for _ in range(0, max_new_token_num):\n",
    "        # user_input_ids = [batch_size, sequence_length]\n",
    "        token_ids = user_input_ids[:, -context_size:]\n",
    "        # logits = [batch_size, max_context_length, dimension_size]\n",
    "        with torch.no_grad():\n",
    "            logits = model(token_ids)\n",
    "        # logits = [batch_size, 1, dimension_size] => we only care about the last token.\n",
    "        logits = logits[:, -1, :]\n",
    "        # genera\n",
    "        next_token_ids = torch.argmax(logits, dim=-1, keepdim=True)\n",
    "        user_input_ids = torch.cat((user_input_ids, next_token_ids), dim=1)\n",
    "    return user_input_ids"
   ]
  },
  {
   "cell_type": "code",
   "execution_count": 98,
   "id": "4311e2d7",
   "metadata": {},
   "outputs": [],
   "source": [
    "generate_new_tokens(model=model, user_input_ids=user_inputs_ids, context_size=1024, max_new_token_num=10)"
   ]
  },
  {
   "cell_type": "code",
   "execution_count": 90,
   "id": "6401e664",
   "metadata": {},
   "outputs": [
    {
     "data": {
      "text/plain": [
       "'こんにちは、わたしは'"
      ]
     },
     "execution_count": 90,
     "metadata": {},
     "output_type": "execute_result"
    }
   ],
   "source": [
    "tokenizer.decode(user_inputs_ids[0, :])"
   ]
  },
  {
   "cell_type": "code",
   "execution_count": 26,
   "id": "058cba1a",
   "metadata": {},
   "outputs": [
    {
     "ename": "ValueError",
     "evalue": "invalid literal for int() with base 10: 'input_ids'",
     "output_type": "error",
     "traceback": [
      "\u001b[31m---------------------------------------------------------------------------\u001b[39m",
      "\u001b[31mValueError\u001b[39m                                Traceback (most recent call last)",
      "\u001b[36mCell\u001b[39m\u001b[36m \u001b[39m\u001b[32mIn[26]\u001b[39m\u001b[32m, line 1\u001b[39m\n\u001b[32m----> \u001b[39m\u001b[32m1\u001b[39m \u001b[43mtokenizer\u001b[49m\u001b[43m.\u001b[49m\u001b[43mconvert_ids_to_tokens\u001b[49m\u001b[43m(\u001b[49m\u001b[43muser_inputs_ids\u001b[49m\u001b[43m)\u001b[49m\n",
      "\u001b[36mFile \u001b[39m\u001b[32m~/miniconda3/envs/llm/lib/python3.12/site-packages/transformers/tokenization_utils_fast.py:414\u001b[39m, in \u001b[36mPreTrainedTokenizerFast.convert_ids_to_tokens\u001b[39m\u001b[34m(self, ids, skip_special_tokens)\u001b[39m\n\u001b[32m    412\u001b[39m tokens = []\n\u001b[32m    413\u001b[39m \u001b[38;5;28;01mfor\u001b[39;00m index \u001b[38;5;129;01min\u001b[39;00m ids:\n\u001b[32m--> \u001b[39m\u001b[32m414\u001b[39m     index = \u001b[38;5;28;43mint\u001b[39;49m\u001b[43m(\u001b[49m\u001b[43mindex\u001b[49m\u001b[43m)\u001b[49m\n\u001b[32m    415\u001b[39m     \u001b[38;5;28;01mif\u001b[39;00m skip_special_tokens \u001b[38;5;129;01mand\u001b[39;00m index \u001b[38;5;129;01min\u001b[39;00m \u001b[38;5;28mself\u001b[39m.all_special_ids:\n\u001b[32m    416\u001b[39m         \u001b[38;5;28;01mcontinue\u001b[39;00m\n",
      "\u001b[31mValueError\u001b[39m: invalid literal for int() with base 10: 'input_ids'"
     ]
    }
   ],
   "source": [
    "tokenizer.convert_ids_to_tokens(user_inputs_ids)"
   ]
  }
 ],
 "metadata": {
  "kernelspec": {
   "display_name": "llm",
   "language": "python",
   "name": "python3"
  },
  "language_info": {
   "codemirror_mode": {
    "name": "ipython",
    "version": 3
   },
   "file_extension": ".py",
   "mimetype": "text/x-python",
   "name": "python",
   "nbconvert_exporter": "python",
   "pygments_lexer": "ipython3",
   "version": "3.12.9"
  }
 },
 "nbformat": 4,
 "nbformat_minor": 5
}
