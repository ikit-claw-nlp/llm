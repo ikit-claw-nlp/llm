{
 "cells": [
  {
   "cell_type": "code",
   "execution_count": null,
   "id": "cfb3723f",
   "metadata": {},
   "outputs": [],
   "source": [
    "import sentencepiece as spm\n",
    "from tokenizers.implementations import SentencePieceUnigramTokenizer"
   ]
  },
  {
   "cell_type": "code",
   "execution_count": null,
   "id": "b6a15df5",
   "metadata": {},
   "outputs": [],
   "source": [
    "hf_tokenizer = SentencePieceUnigramTokenizer.from_spm(filename='tokenizer/ikit_spm.model')\n",
    "hf_tokenizer.save('tokenizer/hf_ikit_spm.json')"
   ]
  },
  {
   "cell_type": "code",
   "execution_count": null,
   "id": "f9a90a1f",
   "metadata": {},
   "outputs": [],
   "source": [
    "from transformers import PreTrainedTokenizerFast\n",
    "special_tokens = [\"<s>\", \"<pad>\", \"</s>\", \"<unk>\"]\n",
    "tokenizer = PreTrainedTokenizerFast(tokenizer_file=\"tokenizer/hf_ikit_spm.json\", special_tokens=special_tokens)"
   ]
  },
  {
   "cell_type": "code",
   "execution_count": null,
   "id": "9233d7dc",
   "metadata": {},
   "outputs": [],
   "source": [
    "tokenizer.bos_token = \"<s>\"\n",
    "tokenizer.pad_token = \"<pad>\"\n",
    "tokenizer.eos_token = \"</s>\"\n",
    "tokenizer.unk_token = \"<unk>\"\n",
    "# and save for later!\n",
    "tokenizer.save_pretrained(\"tokenizer/ikit-llm-spm\")\n"
   ]
  },
  {
   "cell_type": "code",
   "execution_count": null,
   "id": "b069d680",
   "metadata": {},
   "outputs": [],
   "source": [
    "from transformers import AutoTokenizer\n",
    "tokenizer = AutoTokenizer.from_pretrained('tokenizer/ikit-llm-spm')"
   ]
  },
  {
   "cell_type": "code",
   "execution_count": null,
   "id": "379d0b7f",
   "metadata": {},
   "outputs": [],
   "source": [
    "tokenizer.encode('<s>東海大学とは、神奈川県に設立した総合大学の代表校です😂</s>')\n",
    "tokenizer.convert_ids_to_tokens([1, 4, 33956, 318, 6, 8646, 21, 20965, 1074, 437, 10052, 1311, 725, 0, 2])"
   ]
  }
 ],
 "metadata": {
  "kernelspec": {
   "display_name": "llm",
   "language": "python",
   "name": "python3"
  },
  "language_info": {
   "codemirror_mode": {
    "name": "ipython",
    "version": 3
   },
   "file_extension": ".py",
   "mimetype": "text/x-python",
   "name": "python",
   "nbconvert_exporter": "python",
   "pygments_lexer": "ipython3",
   "version": "3.12.9"
  }
 },
 "nbformat": 4,
 "nbformat_minor": 5
}
