{
 "cells": [
  {
   "cell_type": "code",
   "execution_count": 1,
   "id": "1581e8a9",
   "metadata": {},
   "outputs": [],
   "source": [
    "import urllib.request"
   ]
  },
  {
   "cell_type": "code",
   "execution_count": 2,
   "id": "f23c421c",
   "metadata": {},
   "outputs": [
    {
     "data": {
      "text/plain": [
       "('./data/wiki_ja.xml.bz2', <http.client.HTTPMessage at 0x74dcf1bb71d0>)"
      ]
     },
     "execution_count": 2,
     "metadata": {},
     "output_type": "execute_result"
    }
   ],
   "source": [
    "save_filename = './data/wiki_ja.xml.bz2'\n",
    "download_url = 'https://dumps.wikimedia.org/jawiki/20250401/jawiki-20250401-pages-articles-multistream.xml.bz2'\n",
    "urllib.request.urlretrieve(download_url, save_filename)"
   ]
  }
 ],
 "metadata": {
  "kernelspec": {
   "display_name": "mpb",
   "language": "python",
   "name": "python3"
  },
  "language_info": {
   "codemirror_mode": {
    "name": "ipython",
    "version": 3
   },
   "file_extension": ".py",
   "mimetype": "text/x-python",
   "name": "python",
   "nbconvert_exporter": "python",
   "pygments_lexer": "ipython3",
   "version": "3.10.16"
  }
 },
 "nbformat": 4,
 "nbformat_minor": 5
}
